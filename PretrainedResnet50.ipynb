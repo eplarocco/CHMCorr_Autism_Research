{
 "cells": [
  {
   "cell_type": "markdown",
   "id": "5240e458-2ca9-4cfb-b035-53749246a3b0",
   "metadata": {},
   "source": [
    "Towards 3D Deep Learning for neuropsychiatry: predicting Autism diagnosis using an interpretable Deep Learning pipeline applied to minimally processed structural MRI data, Melanie Garcia, Clare Kelly. medRxiv 2022.10.18.22281196; doi: https://doi.org/10.1101/2022.10.18.22281196\n",
    "\n",
    "Github: https://github.com/garciaml/Autism-3D-CNN-brain-sMRI?tab=readme-ov-file"
   ]
  },
  {
   "cell_type": "markdown",
   "id": "c29464cf-bb28-45c3-9db8-9ae773b150b1",
   "metadata": {},
   "source": [
    "# Data Preprocessing"
   ]
  },
  {
   "cell_type": "markdown",
   "id": "ade69fa9-51c1-41b3-b996-60b0e4746df4",
   "metadata": {},
   "source": [
    "Stucture your data following the BIDS organization (https://bids.neuroimaging.io/). Your participants.tsv file should contain:\n",
    "\n",
    "1. a column called participant_id corresponding to the subject id (the same as the folder names in the BIDS dataset: sub-<participant_id>).\n",
    "2. a column called label corresponding to the binary target variable (here: 0=no diagnosis, 1=Autism)\n",
    "3. a column called dataset corresponding to where (training, validation, testing set) each participant data will be used: the code supports the three modalities train, val, test."
   ]
  },
  {
   "cell_type": "code",
   "execution_count": null,
   "id": "fdbd8e43-c8cb-48a3-bcf5-63fd5a5c3ac5",
   "metadata": {},
   "outputs": [],
   "source": [
    "# Create ABIDEII_BIDS folder in BIDS structure from ABIDEII_Raw"
   ]
  },
  {
   "cell_type": "code",
   "execution_count": null,
   "id": "7aab8c24-091e-4a17-9c76-ecd881b38563",
   "metadata": {},
   "outputs": [],
   "source": [
    "# clone github repo from above\n",
    "#!git clone https://github.com/garciaml/Autism-3D-CNN-brain-sMRI.git\n",
    "#!cd ../Autism-3D-CNN-brain-sMRI\n",
    "#!pip install -r requirements.txt\n",
    "#!python preprocessing_bids.py ABIDEII_BIDS ABIDEII_BIDS_PROCESSED"
   ]
  }
 ],
 "metadata": {
  "kernelspec": {
   "display_name": "Python (chmenv)",
   "language": "python",
   "name": "chmenv"
  },
  "language_info": {
   "codemirror_mode": {
    "name": "ipython",
    "version": 3
   },
   "file_extension": ".py",
   "mimetype": "text/x-python",
   "name": "python",
   "nbconvert_exporter": "python",
   "pygments_lexer": "ipython3",
   "version": "3.11.4"
  }
 },
 "nbformat": 4,
 "nbformat_minor": 5
}
