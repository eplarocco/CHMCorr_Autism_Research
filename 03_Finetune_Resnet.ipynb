{
 "cells": [
  {
   "cell_type": "markdown",
   "id": "189dee69-b4b1-4ce8-ae2b-a71da560b8d0",
   "metadata": {},
   "source": [
    "# Citations"
   ]
  },
  {
   "cell_type": "markdown",
   "id": "5240e458-2ca9-4cfb-b035-53749246a3b0",
   "metadata": {},
   "source": [
    "Towards 3D Deep Learning for neuropsychiatry: predicting Autism diagnosis using an interpretable Deep Learning pipeline applied to minimally processed structural MRI data, Melanie Garcia, Clare Kelly. medRxiv 2022.10.18.22281196; doi: https://doi.org/10.1101/2022.10.18.22281196\n",
    "\n",
    "Github: https://github.com/garciaml/Autism-3D-CNN-brain-sMRI?tab=readme-ov-file"
   ]
  },
  {
   "cell_type": "markdown",
   "id": "05524cd2-b4c5-4a16-a5d5-9cd438e8ebcc",
   "metadata": {},
   "source": [
    "# Virtual Environment"
   ]
  },
  {
   "cell_type": "code",
   "execution_count": null,
   "id": "503e3403-af0b-48b5-ae17-b4f95cb37f6e",
   "metadata": {},
   "outputs": [],
   "source": [
    "# Activate Virtual Environment and Install Requirements\n",
    "#!python3 -m venv ../pretrainedresnet2\n",
    "#!source ../pretrainedresnet2/bin/activate\n",
    "#!python3 -m ipykernel install --user --name=pretrainedresnet2 --display-name \"Python (pretrainedresnet2)\"\n",
    "#Switch to notebook/virtual environment kernel"
   ]
  },
  {
   "cell_type": "markdown",
   "id": "43988b7f-38d8-48dc-8eff-0e85bdc20bb5",
   "metadata": {},
   "source": [
    "# Libraries and Imports"
   ]
  },
  {
   "cell_type": "code",
   "execution_count": 2,
   "id": "a580654c-8995-41ac-8a45-b1d3be5d3827",
   "metadata": {},
   "outputs": [],
   "source": [
    "#!pip install -r requirements.txt\n",
    "#!pip install \"torchio>=0.19.0\"\n",
    "#!pip install monai\n",
    "#!pip install tensorboard\n",
    "#!pip install torchsummary\n",
    "import pandas as pd"
   ]
  },
  {
   "cell_type": "markdown",
   "id": "ffe6f52b-613f-4634-a61e-95b3a7c277d8",
   "metadata": {},
   "source": [
    "# Finetune Model from Pretrained Medical ResNet50"
   ]
  },
  {
   "cell_type": "code",
   "execution_count": 15,
   "id": "597d68a7-58a1-4ec3-923b-39beeadcee5c",
   "metadata": {
    "scrolled": true
   },
   "outputs": [
    {
     "name": "stdout",
     "output_type": "stream",
     "text": [
      "Loading pretrained model weights from MedicalNet: ../Autism-3D-CNN-brain-sMRI/resnet_training/resnet_18_23dataset.pth\n",
      "----------\n",
      "epoch 1\n",
      "epoch 1 average loss: 0.7289\n",
      "Epoch time duration: 54.410813093185425\n",
      "current epoch: 1 current accuracy: 0.5251 best accuracy: 0.5251 at epoch 1\n",
      "----------\n",
      "epoch 2\n",
      "epoch 2 average loss: 0.6993\n",
      "Epoch time duration: 53.11447215080261\n",
      "current epoch: 2 current accuracy: 0.5284 best accuracy: 0.5284 at epoch 2\n",
      "----------\n",
      "epoch 3\n",
      "epoch 3 average loss: 0.7018\n",
      "Epoch time duration: 53.303221225738525\n",
      "current epoch: 3 current accuracy: 0.5351 best accuracy: 0.5351 at epoch 3\n",
      "----------\n",
      "epoch 4\n",
      "epoch 4 average loss: 0.6929\n",
      "Epoch time duration: 53.37681603431702\n",
      "current epoch: 4 current accuracy: 0.5385 best accuracy: 0.5385 at epoch 4\n",
      "----------\n",
      "epoch 5\n",
      "epoch 5 average loss: 0.6999\n",
      "Epoch time duration: 53.32392120361328\n",
      "current epoch: 5 current accuracy: 0.5284 best accuracy: 0.5385 at epoch 4\n",
      "----------\n",
      "epoch 6\n",
      "epoch 6 average loss: 0.6887\n",
      "Epoch time duration: 53.5900092124939\n",
      "current epoch: 6 current accuracy: 0.4883 best accuracy: 0.5385 at epoch 4\n",
      "----------\n",
      "epoch 7\n",
      "epoch 7 average loss: 0.6880\n",
      "Epoch time duration: 53.28016924858093\n",
      "current epoch: 7 current accuracy: 0.5619 best accuracy: 0.5619 at epoch 7\n",
      "----------\n",
      "epoch 8\n",
      "epoch 8 average loss: 0.6835\n",
      "Epoch time duration: 53.27934789657593\n",
      "current epoch: 8 current accuracy: 0.4649 best accuracy: 0.5619 at epoch 7\n",
      "----------\n",
      "epoch 9\n",
      "epoch 9 average loss: 0.6770\n",
      "Epoch time duration: 53.16085982322693\n",
      "current epoch: 9 current accuracy: 0.4950 best accuracy: 0.5619 at epoch 7\n",
      "----------\n",
      "epoch 10\n",
      "epoch 10 average loss: 0.6684\n",
      "Epoch time duration: 53.07508206367493\n",
      "current epoch: 10 current accuracy: 0.5284 best accuracy: 0.5619 at epoch 7\n",
      "----------\n",
      "epoch 11\n",
      "epoch 11 average loss: 0.6631\n",
      "Epoch time duration: 53.13648200035095\n",
      "current epoch: 11 current accuracy: 0.5485 best accuracy: 0.5619 at epoch 7\n",
      "----------\n",
      "epoch 12\n",
      "epoch 12 average loss: 0.6395\n",
      "Epoch time duration: 53.25995063781738\n",
      "current epoch: 12 current accuracy: 0.5251 best accuracy: 0.5619 at epoch 7\n",
      "----------\n",
      "epoch 13\n",
      "epoch 13 average loss: 0.6439\n",
      "Epoch time duration: 53.32583022117615\n",
      "current epoch: 13 current accuracy: 0.5318 best accuracy: 0.5619 at epoch 7\n",
      "----------\n",
      "epoch 14\n",
      "epoch 14 average loss: 0.6206\n",
      "Epoch time duration: 53.21217894554138\n",
      "current epoch: 14 current accuracy: 0.5385 best accuracy: 0.5619 at epoch 7\n",
      "----------\n",
      "epoch 15\n",
      "epoch 15 average loss: 0.5854\n",
      "Epoch time duration: 53.23967790603638\n",
      "current epoch: 15 current accuracy: 0.5452 best accuracy: 0.5619 at epoch 7\n",
      "----------\n",
      "epoch 16\n",
      "epoch 16 average loss: 0.5313\n",
      "Epoch time duration: 53.293524503707886\n",
      "current epoch: 16 current accuracy: 0.5385 best accuracy: 0.5619 at epoch 7\n",
      "----------\n",
      "epoch 17\n",
      "epoch 17 average loss: 0.4822\n",
      "Epoch time duration: 53.121787786483765\n",
      "current epoch: 17 current accuracy: 0.4749 best accuracy: 0.5619 at epoch 7\n",
      "----------\n",
      "epoch 18\n",
      "epoch 18 average loss: 0.4074\n",
      "Epoch time duration: 53.40454363822937\n",
      "current epoch: 18 current accuracy: 0.4783 best accuracy: 0.5619 at epoch 7\n",
      "----------\n",
      "epoch 19\n",
      "epoch 19 average loss: 0.3291\n",
      "Epoch time duration: 53.20428490638733\n",
      "current epoch: 19 current accuracy: 0.4883 best accuracy: 0.5619 at epoch 7\n",
      "----------\n",
      "epoch 20\n",
      "epoch 20 average loss: 0.3080\n",
      "Epoch time duration: 53.29076957702637\n",
      "current epoch: 20 current accuracy: 0.5318 best accuracy: 0.5619 at epoch 7\n",
      "train completed, best_metric: 0.5619 at epoch: 7\n"
     ]
    }
   ],
   "source": [
    "# Start training from scratch\n",
    "!python ../Autism-3D-CNN-brain-sMRI/train_medicalnet.py 'JustBrain_Data/ABIDE_COMBINED' 'Cleaned_Data/ABIDE_COMBINED' './outputs/Resnet50/ABIDE_COMBINED' '../Autism-3D-CNN-brain-sMRI/resnet_training/resnet_18_23dataset.pth' --lr 0.0003 --batch 8 --epochs 20"
   ]
  },
  {
   "cell_type": "code",
   "execution_count": null,
   "id": "300da28f-a63f-45a0-b765-459923dd229e",
   "metadata": {
    "scrolled": true
   },
   "outputs": [],
   "source": [
    "# Resume training from saved model\n",
    "#!python ../Autism-3D-CNN-brain-sMRI/train_medicalnet.py 'JustBrain_Data/ABIDE_COMBINED' 'Cleaned_Data/ABIDE_COMBINED' './outputs/Resnet50/ABIDE_COMBINED' 'outputs/Resnet50/ABIDE_COMBINED/checkpoint_7.pth' --resume"
   ]
  },
  {
   "cell_type": "markdown",
   "id": "c9d8499e-064d-401b-bb7c-215be375d59c",
   "metadata": {},
   "source": [
    "## Test"
   ]
  },
  {
   "cell_type": "code",
   "execution_count": 18,
   "id": "75547e36-4142-43eb-89aa-296adb7b1861",
   "metadata": {},
   "outputs": [],
   "source": [
    "participants_tsv = pd.read_csv('JustBrain_Data/ABIDE_COMBINED/participants.tsv', sep=\"\\t\", dtype=str)\n",
    "participants_tsv.rename(columns={\"participant_id\" : \"SUB_ID\"}, inplace=True)\n",
    "participants_tsv = participants_tsv[participants_tsv.dataset == 'test']\n",
    "participants_tsv.to_csv('outputs/Resnet50/ABIDE_COMBINED/test/subjects.csv', index = False)"
   ]
  },
  {
   "cell_type": "code",
   "execution_count": 20,
   "id": "d3dae81f-48e7-4cea-8b32-32cdec2fca5e",
   "metadata": {},
   "outputs": [
    {
     "name": "stdout",
     "output_type": "stream",
     "text": [
      "evaluation metric: 0.5130434782608696\n"
     ]
    }
   ],
   "source": [
    "# Predictions - 7 epochs (best accuracy)\n",
    "!python ../Autism-3D-CNN-brain-sMRI/predict_medicalnet_subids.py 'Cleaned_Data/ABIDE_COMBINED/test' 'outputs/Resnet50/ABIDE_COMBINED/test/subjects.csv' './outputs/Resnet50/ABIDE_COMBINED/checkpoint_7.pth' './outputs/Resnet50/ABIDE_COMBINED/test'"
   ]
  },
  {
   "cell_type": "markdown",
   "id": "7a820afc-d2d9-4766-9d87-742fee1f72d4",
   "metadata": {},
   "source": [
    "## Val"
   ]
  },
  {
   "cell_type": "code",
   "execution_count": 3,
   "id": "dc3ec65f-8e20-4e35-9ac4-9620001b4941",
   "metadata": {},
   "outputs": [],
   "source": [
    "participants_tsv = pd.read_csv('JustBrain_Data/ABIDE_COMBINED/participants.tsv', sep=\"\\t\", dtype=str)\n",
    "participants_tsv.rename(columns={\"participant_id\" : \"SUB_ID\"}, inplace=True)\n",
    "participants_tsv = participants_tsv[participants_tsv.dataset == 'val']\n",
    "participants_tsv.to_csv('outputs/Resnet50/ABIDE_COMBINED/validation/subjects.csv', index = False)"
   ]
  },
  {
   "cell_type": "code",
   "execution_count": null,
   "id": "af0cb6d4-8eb4-4906-a70c-ea24d2a72576",
   "metadata": {},
   "outputs": [],
   "source": [
    "# Predictions - 36 epochs (predictions all 0) - overfit\n",
    "!python ../Autism-3D-CNN-brain-sMRI/predict_medicalnet_subids.py 'Preprocessed_Data/ABIDE_COMBINED/val' 'outputs/Resnet50/ABIDE_Combined/validation/subjects.csv' './outputs/Resnet50/ABIDE_Combined/checkpoint_36.pth' './outputs/Resnet50/ABIDE_Combined/validation'"
   ]
  },
  {
   "cell_type": "markdown",
   "id": "8e75b94b-163d-49a2-ac9e-1760de5b7051",
   "metadata": {},
   "source": [
    "## Train"
   ]
  },
  {
   "cell_type": "code",
   "execution_count": 4,
   "id": "e2267488-6795-4724-92d7-c5ea9d648c22",
   "metadata": {},
   "outputs": [],
   "source": [
    "participants_tsv = pd.read_csv('JustBrain_Data/ABIDE_COMBINED/participants.tsv', sep=\"\\t\", dtype=str)\n",
    "participants_tsv.rename(columns={\"participant_id\" : \"SUB_ID\"}, inplace=True)\n",
    "participants_tsv = participants_tsv[participants_tsv.dataset == 'train']\n",
    "participants_tsv.to_csv('outputs/Resnet50/ABIDE_COMBINED/train/subjects.csv', index = False)"
   ]
  },
  {
   "cell_type": "code",
   "execution_count": 10,
   "id": "7d5ce33b-b322-4708-ba77-397ecce85708",
   "metadata": {},
   "outputs": [
    {
     "name": "stdout",
     "output_type": "stream",
     "text": [
      "/sfs/gpfs/tardis/home/ejh2wy/Autism-3D-CNN-brain-sMRI/resnet2.py:174: FutureWarning: `nn.init.kaiming_normal` is now deprecated in favor of `nn.init.kaiming_normal_`.\n",
      "  m.weight = nn.init.kaiming_normal(m.weight, mode='fan_out')\n",
      "/sfs/gpfs/tardis/home/ejh2wy/CHMCorr_Autism_Research/../Autism-3D-CNN-brain-sMRI/predict_medicalnet_subids.py:104: FutureWarning: You are using `torch.load` with `weights_only=False` (the current default value), which uses the default pickle module implicitly. It is possible to construct malicious pickle data which will execute arbitrary code during unpickling (See https://github.com/pytorch/pytorch/blob/main/SECURITY.md#untrusted-models for more details). In a future release, the default value for `weights_only` will be flipped to `True`. This limits the functions that could be executed during unpickling. Arbitrary objects will no longer be allowed to be loaded via this mode unless they are explicitly allowlisted by the user via `torch.serialization.add_safe_globals`. We recommend you start setting `weights_only=True` for any use case where you don't have full control of the loaded file. Please open an issue on GitHub for any issues related to this experimental feature.\n",
      "  pretrain = torch.load(pretrain_path)\n",
      "/home/ejh2wy/.local/lib/python3.11/site-packages/torchio/data/image.py:248: UserWarning: Using TorchIO images without a torchio.SubjectsLoader in PyTorch >= 2.3 might have unexpected consequences, e.g., the collated batches will be instances of torchio.Subject with 5D images. Replace your PyTorch DataLoader with a torchio.SubjectsLoader so that the collated batch becomes a dictionary, as expected. See https://github.com/TorchIO-project/torchio/issues/1179 for more context about this issue.\n",
      "  warnings.warn(message, stacklevel=1)\n",
      "evaluation metric: 0.5294464075382803\n"
     ]
    }
   ],
   "source": [
    "# Predictions - 36 epochs (predictions all 0) - overfit\n",
    "!python ../Autism-3D-CNN-brain-sMRI/predict_medicalnet_subids.py 'Preprocessed_Data/ABIDE_COMBINED/train' 'outputs/Resnet50/ABIDE_Combined/train/subjects.csv' './outputs/Resnet50/ABIDE_Combined/checkpoint_36.pth' './outputs/Resnet50/ABIDE_Combined/train'"
   ]
  }
 ],
 "metadata": {
  "kernelspec": {
   "display_name": "Python (pretrainedresnet2)",
   "language": "python",
   "name": "pretrainedresnet2"
  },
  "language_info": {
   "codemirror_mode": {
    "name": "ipython",
    "version": 3
   },
   "file_extension": ".py",
   "mimetype": "text/x-python",
   "name": "python",
   "nbconvert_exporter": "python",
   "pygments_lexer": "ipython3",
   "version": "3.11.6"
  }
 },
 "nbformat": 4,
 "nbformat_minor": 5
}
