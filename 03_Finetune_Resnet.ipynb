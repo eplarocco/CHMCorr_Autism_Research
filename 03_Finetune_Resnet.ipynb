{
 "cells": [
  {
   "cell_type": "markdown",
   "id": "189dee69-b4b1-4ce8-ae2b-a71da560b8d0",
   "metadata": {},
   "source": [
    "# Citations"
   ]
  },
  {
   "cell_type": "markdown",
   "id": "5240e458-2ca9-4cfb-b035-53749246a3b0",
   "metadata": {},
   "source": [
    "Towards 3D Deep Learning for neuropsychiatry: predicting Autism diagnosis using an interpretable Deep Learning pipeline applied to minimally processed structural MRI data, Melanie Garcia, Clare Kelly. medRxiv 2022.10.18.22281196; doi: https://doi.org/10.1101/2022.10.18.22281196\n",
    "\n",
    "Github: https://github.com/garciaml/Autism-3D-CNN-brain-sMRI?tab=readme-ov-file"
   ]
  },
  {
   "cell_type": "markdown",
   "id": "05524cd2-b4c5-4a16-a5d5-9cd438e8ebcc",
   "metadata": {},
   "source": [
    "# Virtual Environment"
   ]
  },
  {
   "cell_type": "code",
   "execution_count": null,
   "id": "503e3403-af0b-48b5-ae17-b4f95cb37f6e",
   "metadata": {},
   "outputs": [],
   "source": [
    "# Activate Virtual Environment and Install Requirements\n",
    "#!python3 -m venv ../pretrainedresnet2\n",
    "#!source ../pretrainedresnet2/bin/activate\n",
    "#!python3 -m ipykernel install --user --name=pretrainedresnet2 --display-name \"Python (pretrainedresnet2)\"\n",
    "#Switch to notebook/virtual environment kernel"
   ]
  },
  {
   "cell_type": "markdown",
   "id": "43988b7f-38d8-48dc-8eff-0e85bdc20bb5",
   "metadata": {},
   "source": [
    "# Libraries and Imports"
   ]
  },
  {
   "cell_type": "code",
   "execution_count": 2,
   "id": "a580654c-8995-41ac-8a45-b1d3be5d3827",
   "metadata": {},
   "outputs": [],
   "source": [
    "#!pip install -r requirements.txt\n",
    "#!pip install \"torchio>=0.19.0\"\n",
    "#!pip install monai\n",
    "#!pip install tensorboard\n",
    "#!pip install torchsummary\n",
    "import pandas as pd"
   ]
  },
  {
   "cell_type": "markdown",
   "id": "ffe6f52b-613f-4634-a61e-95b3a7c277d8",
   "metadata": {},
   "source": [
    "# Finetune Model from Pretrained Medical ResNet50"
   ]
  },
  {
   "cell_type": "code",
   "execution_count": 2,
   "id": "597d68a7-58a1-4ec3-923b-39beeadcee5c",
   "metadata": {
    "scrolled": true
   },
   "outputs": [
    {
     "name": "stdout",
     "output_type": "stream",
     "text": [
      "Loading pretrained model weights from MedicalNet: ../Autism-3D-CNN-brain-sMRI/resnet_training/resnet_18_23dataset.pth\n",
      "----------\n",
      "epoch 1\n",
      "^C\n",
      "Traceback (most recent call last):\n",
      "  File \"/sfs/gpfs/tardis/home/ejh2wy/CHMCorr_Autism_Research/../Autism-3D-CNN-brain-sMRI/train_medicalnet.py\", line 171, in <module>\n",
      "    scaler.step(optimizer)\n",
      "  File \"/home/ejh2wy/.local/lib/python3.11/site-packages/torch/amp/grad_scaler.py\", line 454, in step\n",
      "    retval = self._maybe_opt_step(optimizer, optimizer_state, *args, **kwargs)\n",
      "             ^^^^^^^^^^^^^^^^^^^^^^^^^^^^^^^^^^^^^^^^^^^^^^^^^^^^^^^^^^^^^^^^^\n",
      "  File \"/home/ejh2wy/.local/lib/python3.11/site-packages/torch/amp/grad_scaler.py\", line 351, in _maybe_opt_step\n",
      "    if not sum(v.item() for v in optimizer_state[\"found_inf_per_device\"].values()):\n",
      "           ^^^^^^^^^^^^^^^^^^^^^^^^^^^^^^^^^^^^^^^^^^^^^^^^^^^^^^^^^^^^^^^^^^^^^^^\n",
      "  File \"/home/ejh2wy/.local/lib/python3.11/site-packages/torch/amp/grad_scaler.py\", line 351, in <genexpr>\n",
      "    if not sum(v.item() for v in optimizer_state[\"found_inf_per_device\"].values()):\n",
      "               ^^^^^^^^\n",
      "KeyboardInterrupt\n"
     ]
    }
   ],
   "source": [
    "# Start training from scratch\n",
    "!python ../Autism-3D-CNN-brain-sMRI/train_medicalnet.py 'JustBrain_Data/ABIDE_COMBINED' 'Middle_Data/ABIDE_COMBINED' './outputs/Resnet50/ABIDE_COMBINED' '../Autism-3D-CNN-brain-sMRI/resnet_training/resnet_18_23dataset.pth' --lr 0.0003 --batch 8 --epochs 20"
   ]
  },
  {
   "cell_type": "code",
   "execution_count": null,
   "id": "300da28f-a63f-45a0-b765-459923dd229e",
   "metadata": {
    "scrolled": true
   },
   "outputs": [],
   "source": [
    "# Resume training from saved model\n",
    "#!python ../Autism-3D-CNN-brain-sMRI/train_medicalnet.py 'JustBrain_Data/ABIDE_COMBINED' 'Cleaned_Data/ABIDE_COMBINED' './outputs/Resnet50/ABIDE_COMBINED' 'outputs/Resnet50/ABIDE_COMBINED/checkpoint_7.pth' --resume"
   ]
  },
  {
   "cell_type": "markdown",
   "id": "c9d8499e-064d-401b-bb7c-215be375d59c",
   "metadata": {},
   "source": [
    "## Test"
   ]
  },
  {
   "cell_type": "code",
   "execution_count": 18,
   "id": "75547e36-4142-43eb-89aa-296adb7b1861",
   "metadata": {},
   "outputs": [],
   "source": [
    "participants_tsv = pd.read_csv('JustBrain_Data/ABIDE_COMBINED/participants.tsv', sep=\"\\t\", dtype=str)\n",
    "participants_tsv.rename(columns={\"participant_id\" : \"SUB_ID\"}, inplace=True)\n",
    "participants_tsv = participants_tsv[participants_tsv.dataset == 'test']\n",
    "participants_tsv.to_csv('outputs/Resnet50/ABIDE_COMBINED/test/subjects.csv', index = False)"
   ]
  },
  {
   "cell_type": "code",
   "execution_count": 20,
   "id": "d3dae81f-48e7-4cea-8b32-32cdec2fca5e",
   "metadata": {},
   "outputs": [
    {
     "name": "stdout",
     "output_type": "stream",
     "text": [
      "evaluation metric: 0.5130434782608696\n"
     ]
    }
   ],
   "source": [
    "# Predictions - 7 epochs (best accuracy)\n",
    "!python ../Autism-3D-CNN-brain-sMRI/predict_medicalnet_subids.py 'Cleaned_Data/ABIDE_COMBINED/test' 'outputs/Resnet50/ABIDE_COMBINED/test/subjects.csv' './outputs/Resnet50/ABIDE_COMBINED/checkpoint_7.pth' './outputs/Resnet50/ABIDE_COMBINED/test'"
   ]
  },
  {
   "cell_type": "markdown",
   "id": "7a820afc-d2d9-4766-9d87-742fee1f72d4",
   "metadata": {},
   "source": [
    "## Val"
   ]
  },
  {
   "cell_type": "code",
   "execution_count": 3,
   "id": "dc3ec65f-8e20-4e35-9ac4-9620001b4941",
   "metadata": {},
   "outputs": [],
   "source": [
    "participants_tsv = pd.read_csv('JustBrain_Data/ABIDE_COMBINED/participants.tsv', sep=\"\\t\", dtype=str)\n",
    "participants_tsv.rename(columns={\"participant_id\" : \"SUB_ID\"}, inplace=True)\n",
    "participants_tsv = participants_tsv[participants_tsv.dataset == 'val']\n",
    "participants_tsv.to_csv('outputs/Resnet50/ABIDE_COMBINED/validation/subjects.csv', index = False)"
   ]
  },
  {
   "cell_type": "code",
   "execution_count": null,
   "id": "af0cb6d4-8eb4-4906-a70c-ea24d2a72576",
   "metadata": {},
   "outputs": [],
   "source": [
    "# Predictions - 36 epochs (predictions all 0) - overfit\n",
    "!python ../Autism-3D-CNN-brain-sMRI/predict_medicalnet_subids.py 'Preprocessed_Data/ABIDE_COMBINED/val' 'outputs/Resnet50/ABIDE_Combined/validation/subjects.csv' './outputs/Resnet50/ABIDE_Combined/checkpoint_36.pth' './outputs/Resnet50/ABIDE_Combined/validation'"
   ]
  },
  {
   "cell_type": "markdown",
   "id": "8e75b94b-163d-49a2-ac9e-1760de5b7051",
   "metadata": {},
   "source": [
    "## Train"
   ]
  },
  {
   "cell_type": "code",
   "execution_count": 4,
   "id": "e2267488-6795-4724-92d7-c5ea9d648c22",
   "metadata": {},
   "outputs": [],
   "source": [
    "participants_tsv = pd.read_csv('JustBrain_Data/ABIDE_COMBINED/participants.tsv', sep=\"\\t\", dtype=str)\n",
    "participants_tsv.rename(columns={\"participant_id\" : \"SUB_ID\"}, inplace=True)\n",
    "participants_tsv = participants_tsv[participants_tsv.dataset == 'train']\n",
    "participants_tsv.to_csv('outputs/Resnet50/ABIDE_COMBINED/train/subjects.csv', index = False)"
   ]
  },
  {
   "cell_type": "code",
   "execution_count": 10,
   "id": "7d5ce33b-b322-4708-ba77-397ecce85708",
   "metadata": {},
   "outputs": [
    {
     "name": "stdout",
     "output_type": "stream",
     "text": [
      "/sfs/gpfs/tardis/home/ejh2wy/Autism-3D-CNN-brain-sMRI/resnet2.py:174: FutureWarning: `nn.init.kaiming_normal` is now deprecated in favor of `nn.init.kaiming_normal_`.\n",
      "  m.weight = nn.init.kaiming_normal(m.weight, mode='fan_out')\n",
      "/sfs/gpfs/tardis/home/ejh2wy/CHMCorr_Autism_Research/../Autism-3D-CNN-brain-sMRI/predict_medicalnet_subids.py:104: FutureWarning: You are using `torch.load` with `weights_only=False` (the current default value), which uses the default pickle module implicitly. It is possible to construct malicious pickle data which will execute arbitrary code during unpickling (See https://github.com/pytorch/pytorch/blob/main/SECURITY.md#untrusted-models for more details). In a future release, the default value for `weights_only` will be flipped to `True`. This limits the functions that could be executed during unpickling. Arbitrary objects will no longer be allowed to be loaded via this mode unless they are explicitly allowlisted by the user via `torch.serialization.add_safe_globals`. We recommend you start setting `weights_only=True` for any use case where you don't have full control of the loaded file. Please open an issue on GitHub for any issues related to this experimental feature.\n",
      "  pretrain = torch.load(pretrain_path)\n",
      "/home/ejh2wy/.local/lib/python3.11/site-packages/torchio/data/image.py:248: UserWarning: Using TorchIO images without a torchio.SubjectsLoader in PyTorch >= 2.3 might have unexpected consequences, e.g., the collated batches will be instances of torchio.Subject with 5D images. Replace your PyTorch DataLoader with a torchio.SubjectsLoader so that the collated batch becomes a dictionary, as expected. See https://github.com/TorchIO-project/torchio/issues/1179 for more context about this issue.\n",
      "  warnings.warn(message, stacklevel=1)\n",
      "evaluation metric: 0.5294464075382803\n"
     ]
    }
   ],
   "source": [
    "# Predictions - 36 epochs (predictions all 0) - overfit\n",
    "!python ../Autism-3D-CNN-brain-sMRI/predict_medicalnet_subids.py 'Preprocessed_Data/ABIDE_COMBINED/train' 'outputs/Resnet50/ABIDE_Combined/train/subjects.csv' './outputs/Resnet50/ABIDE_Combined/checkpoint_36.pth' './outputs/Resnet50/ABIDE_Combined/train'"
   ]
  }
 ],
 "metadata": {
  "kernelspec": {
   "display_name": "Python (pretrainedresnet2)",
   "language": "python",
   "name": "pretrainedresnet2"
  },
  "language_info": {
   "codemirror_mode": {
    "name": "ipython",
    "version": 3
   },
   "file_extension": ".py",
   "mimetype": "text/x-python",
   "name": "python",
   "nbconvert_exporter": "python",
   "pygments_lexer": "ipython3",
   "version": "3.11.6"
  }
 },
 "nbformat": 4,
 "nbformat_minor": 5
}
