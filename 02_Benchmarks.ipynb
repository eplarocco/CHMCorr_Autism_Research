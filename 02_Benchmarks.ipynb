{
 "cells": [
  {
   "cell_type": "markdown",
   "id": "5240e458-2ca9-4cfb-b035-53749246a3b0",
   "metadata": {},
   "source": [
    "Towards 3D Deep Learning for neuropsychiatry: predicting Autism diagnosis using an interpretable Deep Learning pipeline applied to minimally processed structural MRI data, Melanie Garcia, Clare Kelly. medRxiv 2022.10.18.22281196; doi: https://doi.org/10.1101/2022.10.18.22281196\n",
    "\n",
    "Github: https://github.com/garciaml/Autism-3D-CNN-brain-sMRI?tab=readme-ov-file"
   ]
  },
  {
   "cell_type": "markdown",
   "id": "1d6b7162-4d1a-433b-8e99-ed09c93fee22",
   "metadata": {},
   "source": [
    "# Activate Virtual Environment and Install Requirements\n",
    "!python3 -m venv ../pretrainedresnet2\n",
    "!source ../pretrainedresnet2/bin/activate\n",
    "!python3 -m ipykernel install --user --name=pretrainedresnet2 --display-name \"Python (pretrainedresnet2)\"\n",
    "#Switch to notebook/virtual environment kernel"
   ]
  },
  {
   "cell_type": "code",
   "execution_count": 8,
   "id": "b00e43c5-baa8-41b5-b817-35dcbfb76bc5",
   "metadata": {},
   "outputs": [],
   "source": [
    "import os\n",
    "import shutil\n",
    "import pandas as pd"
   ]
  },
  {
   "cell_type": "markdown",
   "id": "adca8835-3e91-422a-9ea8-2ca9eddff78a",
   "metadata": {},
   "source": [
    "# Test Paper Reproducibility"
   ]
  },
  {
   "cell_type": "code",
   "execution_count": 3,
   "id": "bf232768-d708-4975-940a-21a4a1c34239",
   "metadata": {},
   "outputs": [],
   "source": [
    "def copy_with_structure(source_folder, destination_folder):\n",
    "    \"\"\"Copies the contents of source_folder to destination_folder, maintaining the directory structure.\"\"\"\n",
    "\n",
    "    for item in os.listdir(source_folder):\n",
    "        source_path = os.path.join(source_folder, item)\n",
    "        destination_path = os.path.join(destination_folder, item)\n",
    "\n",
    "        if os.path.isfile(source_path):\n",
    "            shutil.copy2(source_path, destination_path)  # copy file with metadata\n",
    "        elif os.path.isdir(source_path):\n",
    "             shutil.copytree(source_path, destination_path, dirs_exist_ok=True) # copy directory and its contents\n",
    "        else:\n",
    "            print(f\"Skipping {source_path}, not a file or directory.\")"
   ]
  },
  {
   "cell_type": "code",
   "execution_count": 4,
   "id": "015997f8-e4a4-4328-aa85-d093a64e9e29",
   "metadata": {},
   "outputs": [],
   "source": [
    "def count_folders(path):\n",
    "    folder_count = 0\n",
    "    for item in os.listdir(path):\n",
    "        if os.path.isdir(os.path.join(path, item)):\n",
    "            folder_count += 1\n",
    "    return folder_count"
   ]
  },
  {
   "cell_type": "code",
   "execution_count": 9,
   "id": "b5e980f0-c81c-48bf-aff6-ec53256386f2",
   "metadata": {},
   "outputs": [],
   "source": [
    "def count_files(directory_path):\n",
    "    \"\"\"Counts the number of files in a directory.\n",
    "\n",
    "    Args:\n",
    "        directory_path: The path to the directory.\n",
    "\n",
    "    Returns:\n",
    "        The number of files in the directory, or -1 if the directory does not exist.\n",
    "    \"\"\"\n",
    "    if not os.path.exists(directory_path):\n",
    "        return -1\n",
    "    \n",
    "    file_count = 0\n",
    "    for item in os.listdir(directory_path):\n",
    "        item_path = os.path.join(directory_path, item)\n",
    "        if os.path.isfile(item_path):\n",
    "            file_count += 1\n",
    "    return file_count"
   ]
  },
  {
   "cell_type": "code",
   "execution_count": 11,
   "id": "9bf20dca-f6b6-4009-8da2-cea37c6de12c",
   "metadata": {
    "scrolled": true
   },
   "outputs": [
    {
     "name": "stdout",
     "output_type": "stream",
     "text": [
      "6\n",
      "3\n",
      "2112\n",
      "2112\n"
     ]
    }
   ],
   "source": [
    "# Model Training - check if can reporduce results from paper (train to 42 epochs with similar split)\n",
    "\n",
    "#Copy ABIDE1 and ABIDE2 images to ABIDE_COMBINED folder in JustBrain_Data folder\n",
    "source_folder1 = \"JustBrain_Data/ABIDE1\"\n",
    "source_folder2 = \"JustBrain_Data/ABIDE2\"\n",
    "destination_folder = \"JustBrain_Data/ABIDE_COMBINED\"\n",
    "\n",
    "copy_with_structure(source_folder1, destination_folder)\n",
    "copy_with_structure(source_folder2, destination_folder)\n",
    "\n",
    "\n",
    "#Combine ABIDEI and ABIDE2 tsv files\n",
    "participants1_tsv = pd.read_csv('JustBrain_Data/ABIDE1/participants.tsv', sep=\"\\t\", dtype=str)\n",
    "participants2_tsv = pd.read_csv('JustBrain_Data/ABIDE2/participants.tsv', sep=\"\\t\", dtype=str)\n",
    "participants_ABIDE = pd.concat([participants1_tsv,participants2_tsv])\n",
    "participants_ABIDE.to_csv('JustBrain_Data/ABIDE_COMBINED/participants.tsv', sep='\\t', index=False, header=True)\n",
    "\n",
    "#Check\n",
    "print(count_folders(source_folder1) + count_folders(source_folder2))\n",
    "print(count_folders(destination_folder))\n",
    "print(participants_ABIDE.shape[0]) # - looks good!\n",
    "\n",
    "\n",
    "#Copy ABIDE1 and ABIDE2 images to ABIDE_COMBINED folder in Preprocessed_Data folder\n",
    "source_folder1 = \"Preprocessed_Data/ABIDE1\"\n",
    "source_folder2 = \"Preprocessed_Data/ABIDE2\"\n",
    "destination_folder = \"Preprocessed_Data/ABIDE_COMBINED\"\n",
    "\n",
    "copy_with_structure(source_folder1, destination_folder)\n",
    "copy_with_structure(source_folder2, destination_folder)\n",
    "\n",
    "#Check\n",
    "test_folder = count_files(\"Preprocessed_Data/ABIDE_COMBINED/test\")\n",
    "train_folder = count_files(\"Preprocessed_Data/ABIDE_COMBINED/train\")\n",
    "val_folder = count_files(\"Preprocessed_Data/ABIDE_COMBINED/val\")\n",
    "print(test_folder + train_folder + val_folder)"
   ]
  },
  {
   "cell_type": "code",
   "execution_count": null,
   "id": "d81a136e-2afb-49bf-9687-c93b40b60069",
   "metadata": {},
   "outputs": [],
   "source": [
    "#../Autism-3D-CNN-brain-sMRI/resnet_training/resnet_50.pth'"
   ]
  },
  {
   "cell_type": "code",
   "execution_count": 13,
   "id": "ac3c1f2a-44c3-4ca4-a3e2-5d57b24184c8",
   "metadata": {},
   "outputs": [
    {
     "name": "stdout",
     "output_type": "stream",
     "text": [
      "/sfs/gpfs/tardis/home/ejh2wy/Autism-3D-CNN-brain-sMRI/resnet2.py:174: FutureWarning: `nn.init.kaiming_normal` is now deprecated in favor of `nn.init.kaiming_normal_`.\n",
      "  m.weight = nn.init.kaiming_normal(m.weight, mode='fan_out')\n",
      "loading pretrained model ./outputs/Resnet50/Reproduced_ABIDE_Results/model_4_epochs_run1.pth\n",
      "/sfs/gpfs/tardis/home/ejh2wy/CHMCorr_Autism_Research/../Autism-3D-CNN-brain-sMRI/train_medicalnet.py:103: FutureWarning: You are using `torch.load` with `weights_only=False` (the current default value), which uses the default pickle module implicitly. It is possible to construct malicious pickle data which will execute arbitrary code during unpickling (See https://github.com/pytorch/pytorch/blob/main/SECURITY.md#untrusted-models for more details). In a future release, the default value for `weights_only` will be flipped to `True`. This limits the functions that could be executed during unpickling. Arbitrary objects will no longer be allowed to be loaded via this mode unless they are explicitly allowlisted by the user via `torch.serialization.add_safe_globals`. We recommend you start setting `weights_only=True` for any use case where you don't have full control of the loaded file. Please open an issue on GitHub for any issues related to this experimental feature.\n",
      "  pretrain = torch.load(pretrain_path)\n",
      "----------\n",
      "epoch 1\n",
      "1/849, train_loss: 0.7790\n",
      "2/849, train_loss: 2.7412\n",
      "3/849, train_loss: 0.8795\n",
      "4/849, train_loss: 0.8473\n",
      "5/849, train_loss: 1.7073\n",
      "6/849, train_loss: 1.7750\n",
      "7/849, train_loss: 0.9053\n",
      "8/849, train_loss: 0.7959\n",
      "9/849, train_loss: 2.0274\n",
      "10/849, train_loss: 1.0254\n",
      "11/849, train_loss: 1.6387\n",
      "12/849, train_loss: 0.1713\n",
      "13/849, train_loss: 1.1457\n",
      "^C\n",
      "Traceback (most recent call last):\n",
      "  File \"/sfs/gpfs/tardis/home/ejh2wy/CHMCorr_Autism_Research/../Autism-3D-CNN-brain-sMRI/train_medicalnet.py\", line 155, in <module>\n",
      "    epoch_loss += loss.item()\n",
      "                  ^^^^^^^^^^^\n",
      "KeyboardInterrupt\n"
     ]
    }
   ],
   "source": [
    "# ensure you put pre-trained weights in directory\n",
    "!python ../Autism-3D-CNN-brain-sMRI/train_medicalnet.py 'JustBrain_Data/ABIDE_COMBINED' 'Preprocessed_Data/ABIDE_COMBINED' './outputs/Resnet50/Reproduced_ABIDE_Results' './outputs/Resnet50/Reproduced_ABIDE_Results/model_4_epochs_run1.pth'"
   ]
  },
  {
   "cell_type": "markdown",
   "id": "1343affc-7c63-48a6-9312-159e93768c1d",
   "metadata": {},
   "source": [
    "# ABIDEII"
   ]
  },
  {
   "cell_type": "markdown",
   "id": "c9d8499e-064d-401b-bb7c-215be375d59c",
   "metadata": {},
   "source": [
    "## Test"
   ]
  },
  {
   "cell_type": "code",
   "execution_count": 28,
   "id": "75547e36-4142-43eb-89aa-296adb7b1861",
   "metadata": {},
   "outputs": [],
   "source": [
    "participants_tsv = pd.read_csv('JustBrain_Data/ABIDE2/participants.tsv', sep=\"\\t\", dtype=str)\n",
    "participants_tsv.rename(columns={\"participant_id\" : \"SUB_ID\"}, inplace=True)\n",
    "participants_tsv = participants_tsv[participants_tsv.dataset == 'test']\n",
    "participants_tsv.to_csv('outputs/Resnet50/ABIDE2/test/subjects.csv', index = False)"
   ]
  },
  {
   "cell_type": "code",
   "execution_count": 43,
   "id": "d3dae81f-48e7-4cea-8b32-32cdec2fca5e",
   "metadata": {},
   "outputs": [
    {
     "name": "stdout",
     "output_type": "stream",
     "text": [
      "/sfs/gpfs/tardis/home/ejh2wy/Autism-3D-CNN-brain-sMRI/resnet2.py:174: FutureWarning: `nn.init.kaiming_normal` is now deprecated in favor of `nn.init.kaiming_normal_`.\n",
      "  m.weight = nn.init.kaiming_normal(m.weight, mode='fan_out')\n",
      "/sfs/gpfs/tardis/home/ejh2wy/CHMCorr_Autism_Research/../Autism-3D-CNN-brain-sMRI/predict_medicalnet_subids.py:104: FutureWarning: You are using `torch.load` with `weights_only=False` (the current default value), which uses the default pickle module implicitly. It is possible to construct malicious pickle data which will execute arbitrary code during unpickling (See https://github.com/pytorch/pytorch/blob/main/SECURITY.md#untrusted-models for more details). In a future release, the default value for `weights_only` will be flipped to `True`. This limits the functions that could be executed during unpickling. Arbitrary objects will no longer be allowed to be loaded via this mode unless they are explicitly allowlisted by the user via `torch.serialization.add_safe_globals`. We recommend you start setting `weights_only=True` for any use case where you don't have full control of the loaded file. Please open an issue on GitHub for any issues related to this experimental feature.\n",
      "  pretrain = torch.load(pretrain_path)\n",
      "/home/ejh2wy/.local/lib/python3.11/site-packages/torchio/data/image.py:248: UserWarning: Using TorchIO images without a torchio.SubjectsLoader in PyTorch >= 2.3 might have unexpected consequences, e.g., the collated batches will be instances of torchio.Subject with 5D images. Replace your PyTorch DataLoader with a torchio.SubjectsLoader so that the collated batch becomes a dictionary, as expected. See https://github.com/TorchIO-project/torchio/issues/1179 for more context about this issue.\n",
      "  warnings.warn(message, stacklevel=1)\n",
      "evaluation metric: 0.47674418604651164\n"
     ]
    }
   ],
   "source": [
    "# Predictions\n",
    "!python ../Autism-3D-CNN-brain-sMRI/predict_medicalnet_subids.py 'Preprocessed_Data/ABIDE2/test' 'outputs/Resnet50/ABIDE2/test/subjects.csv' '../Autism-3D-CNN-brain-sMRI/resnet_training/resnet_50.pth' './outputs/Resnet50/ABIDE2/test'"
   ]
  },
  {
   "cell_type": "markdown",
   "id": "7a820afc-d2d9-4766-9d87-742fee1f72d4",
   "metadata": {},
   "source": [
    "## Val"
   ]
  },
  {
   "cell_type": "code",
   "execution_count": 38,
   "id": "dc3ec65f-8e20-4e35-9ac4-9620001b4941",
   "metadata": {},
   "outputs": [],
   "source": [
    "participants_tsv = pd.read_csv('JustBrain_Data/ABIDE2/participants.tsv', sep=\"\\t\", dtype=str)\n",
    "participants_tsv.rename(columns={\"participant_id\" : \"SUB_ID\"}, inplace=True)\n",
    "participants_tsv = participants_tsv[participants_tsv.dataset == 'val']\n",
    "participants_tsv.to_csv('outputs/Resnet50/ABIDE2/validation/subjects.csv', index = False)"
   ]
  },
  {
   "cell_type": "code",
   "execution_count": 39,
   "id": "c875e6ba-3b5e-4346-a306-61d821be1c36",
   "metadata": {},
   "outputs": [
    {
     "name": "stdout",
     "output_type": "stream",
     "text": [
      "/sfs/gpfs/tardis/home/ejh2wy/Autism-3D-CNN-brain-sMRI/resnet2.py:174: FutureWarning: `nn.init.kaiming_normal` is now deprecated in favor of `nn.init.kaiming_normal_`.\n",
      "  m.weight = nn.init.kaiming_normal(m.weight, mode='fan_out')\n",
      "/sfs/gpfs/tardis/home/ejh2wy/CHMCorr_Autism_Research/../Autism-3D-CNN-brain-sMRI/predict_medicalnet_subids.py:104: FutureWarning: You are using `torch.load` with `weights_only=False` (the current default value), which uses the default pickle module implicitly. It is possible to construct malicious pickle data which will execute arbitrary code during unpickling (See https://github.com/pytorch/pytorch/blob/main/SECURITY.md#untrusted-models for more details). In a future release, the default value for `weights_only` will be flipped to `True`. This limits the functions that could be executed during unpickling. Arbitrary objects will no longer be allowed to be loaded via this mode unless they are explicitly allowlisted by the user via `torch.serialization.add_safe_globals`. We recommend you start setting `weights_only=True` for any use case where you don't have full control of the loaded file. Please open an issue on GitHub for any issues related to this experimental feature.\n",
      "  pretrain = torch.load(pretrain_path)\n",
      "/home/ejh2wy/.local/lib/python3.11/site-packages/torchio/data/image.py:248: UserWarning: Using TorchIO images without a torchio.SubjectsLoader in PyTorch >= 2.3 might have unexpected consequences, e.g., the collated batches will be instances of torchio.Subject with 5D images. Replace your PyTorch DataLoader with a torchio.SubjectsLoader so that the collated batch becomes a dictionary, as expected. See https://github.com/TorchIO-project/torchio/issues/1179 for more context about this issue.\n",
      "  warnings.warn(message, stacklevel=1)\n",
      "evaluation metric: 0.5107913669064749\n"
     ]
    }
   ],
   "source": [
    "# Predictions\n",
    "!python ../Autism-3D-CNN-brain-sMRI/predict_medicalnet_subids.py 'Preprocessed_Data/ABIDE2/val' 'outputs/Resnet50/ABIDE2/validation/subjects.csv' '../Autism-3D-CNN-brain-sMRI/resnet_training/resnet_50.pth' './outputs/Resnet50/ABIDE2/validation'"
   ]
  },
  {
   "cell_type": "markdown",
   "id": "8e75b94b-163d-49a2-ac9e-1760de5b7051",
   "metadata": {},
   "source": [
    "## Train"
   ]
  },
  {
   "cell_type": "code",
   "execution_count": 40,
   "id": "bb52c41c-2ab5-44d4-bffc-1e769a66f010",
   "metadata": {},
   "outputs": [],
   "source": [
    "participants_tsv = pd.read_csv('JustBrain_Data/ABIDE2/participants.tsv', sep=\"\\t\", dtype=str)\n",
    "participants_tsv.rename(columns={\"participant_id\" : \"SUB_ID\"}, inplace=True)\n",
    "participants_tsv = participants_tsv[participants_tsv.dataset == 'train']\n",
    "participants_tsv.to_csv('outputs/Resnet50/ABIDE2/train/subjects.csv', index = False)"
   ]
  },
  {
   "cell_type": "code",
   "execution_count": 41,
   "id": "5a53cb17-d56b-41fa-a0dd-fd4104f7da3b",
   "metadata": {},
   "outputs": [
    {
     "name": "stdout",
     "output_type": "stream",
     "text": [
      "/sfs/gpfs/tardis/home/ejh2wy/Autism-3D-CNN-brain-sMRI/resnet2.py:174: FutureWarning: `nn.init.kaiming_normal` is now deprecated in favor of `nn.init.kaiming_normal_`.\n",
      "  m.weight = nn.init.kaiming_normal(m.weight, mode='fan_out')\n",
      "/sfs/gpfs/tardis/home/ejh2wy/CHMCorr_Autism_Research/../Autism-3D-CNN-brain-sMRI/predict_medicalnet_subids.py:104: FutureWarning: You are using `torch.load` with `weights_only=False` (the current default value), which uses the default pickle module implicitly. It is possible to construct malicious pickle data which will execute arbitrary code during unpickling (See https://github.com/pytorch/pytorch/blob/main/SECURITY.md#untrusted-models for more details). In a future release, the default value for `weights_only` will be flipped to `True`. This limits the functions that could be executed during unpickling. Arbitrary objects will no longer be allowed to be loaded via this mode unless they are explicitly allowlisted by the user via `torch.serialization.add_safe_globals`. We recommend you start setting `weights_only=True` for any use case where you don't have full control of the loaded file. Please open an issue on GitHub for any issues related to this experimental feature.\n",
      "  pretrain = torch.load(pretrain_path)\n",
      "/home/ejh2wy/.local/lib/python3.11/site-packages/torchio/data/image.py:248: UserWarning: Using TorchIO images without a torchio.SubjectsLoader in PyTorch >= 2.3 might have unexpected consequences, e.g., the collated batches will be instances of torchio.Subject with 5D images. Replace your PyTorch DataLoader with a torchio.SubjectsLoader so that the collated batch becomes a dictionary, as expected. See https://github.com/TorchIO-project/torchio/issues/1179 for more context about this issue.\n",
      "  warnings.warn(message, stacklevel=1)\n",
      "evaluation metric: 0.5464968152866242\n"
     ]
    }
   ],
   "source": [
    "# Predictions\n",
    "!python ../Autism-3D-CNN-brain-sMRI/predict_medicalnet_subids.py 'Preprocessed_Data/ABIDE2/train' 'outputs/Resnet50/ABIDE2/train/subjects.csv' '../Autism-3D-CNN-brain-sMRI/resnet_training/resnet_50.pth' './outputs/Resnet50/ABIDE2/train'"
   ]
  },
  {
   "cell_type": "code",
   "execution_count": 14,
   "id": "db937676-3dcb-4a8b-8271-a4da8c3a9b5a",
   "metadata": {},
   "outputs": [
    {
     "name": "stdout",
     "output_type": "stream",
     "text": [
      "1010\n",
      "1082\n"
     ]
    },
    {
     "data": {
      "text/html": [
       "<div>\n",
       "<style scoped>\n",
       "    .dataframe tbody tr th:only-of-type {\n",
       "        vertical-align: middle;\n",
       "    }\n",
       "\n",
       "    .dataframe tbody tr th {\n",
       "        vertical-align: top;\n",
       "    }\n",
       "\n",
       "    .dataframe thead th {\n",
       "        text-align: right;\n",
       "    }\n",
       "</style>\n",
       "<table border=\"1\" class=\"dataframe\">\n",
       "  <thead>\n",
       "    <tr style=\"text-align: right;\">\n",
       "      <th></th>\n",
       "      <th>participant_id</th>\n",
       "      <th>dataset</th>\n",
       "      <th>true_label</th>\n",
       "      <th>predicted_label</th>\n",
       "    </tr>\n",
       "  </thead>\n",
       "  <tbody>\n",
       "    <tr>\n",
       "      <th>0</th>\n",
       "      <td>29864</td>\n",
       "      <td>test</td>\n",
       "      <td>1</td>\n",
       "      <td>1</td>\n",
       "    </tr>\n",
       "    <tr>\n",
       "      <th>1</th>\n",
       "      <td>29865</td>\n",
       "      <td>test</td>\n",
       "      <td>1</td>\n",
       "      <td>1</td>\n",
       "    </tr>\n",
       "    <tr>\n",
       "      <th>2</th>\n",
       "      <td>29866</td>\n",
       "      <td>test</td>\n",
       "      <td>1</td>\n",
       "      <td>1</td>\n",
       "    </tr>\n",
       "    <tr>\n",
       "      <th>3</th>\n",
       "      <td>29867</td>\n",
       "      <td>test</td>\n",
       "      <td>1</td>\n",
       "      <td>1</td>\n",
       "    </tr>\n",
       "    <tr>\n",
       "      <th>4</th>\n",
       "      <td>29868</td>\n",
       "      <td>test</td>\n",
       "      <td>1</td>\n",
       "      <td>1</td>\n",
       "    </tr>\n",
       "    <tr>\n",
       "      <th>...</th>\n",
       "      <td>...</td>\n",
       "      <td>...</td>\n",
       "      <td>...</td>\n",
       "      <td>...</td>\n",
       "    </tr>\n",
       "    <tr>\n",
       "      <th>1005</th>\n",
       "      <td>29507</td>\n",
       "      <td>val</td>\n",
       "      <td>1</td>\n",
       "      <td>1</td>\n",
       "    </tr>\n",
       "    <tr>\n",
       "      <th>1006</th>\n",
       "      <td>29508</td>\n",
       "      <td>val</td>\n",
       "      <td>1</td>\n",
       "      <td>1</td>\n",
       "    </tr>\n",
       "    <tr>\n",
       "      <th>1007</th>\n",
       "      <td>29521</td>\n",
       "      <td>val</td>\n",
       "      <td>1</td>\n",
       "      <td>1</td>\n",
       "    </tr>\n",
       "    <tr>\n",
       "      <th>1008</th>\n",
       "      <td>29520</td>\n",
       "      <td>val</td>\n",
       "      <td>0</td>\n",
       "      <td>0</td>\n",
       "    </tr>\n",
       "    <tr>\n",
       "      <th>1009</th>\n",
       "      <td>29525</td>\n",
       "      <td>val</td>\n",
       "      <td>0</td>\n",
       "      <td>0</td>\n",
       "    </tr>\n",
       "  </tbody>\n",
       "</table>\n",
       "<p>1010 rows × 4 columns</p>\n",
       "</div>"
      ],
      "text/plain": [
       "      participant_id dataset  true_label  predicted_label\n",
       "0              29864    test           1                1\n",
       "1              29865    test           1                1\n",
       "2              29866    test           1                1\n",
       "3              29867    test           1                1\n",
       "4              29868    test           1                1\n",
       "...              ...     ...         ...              ...\n",
       "1005           29507     val           1                1\n",
       "1006           29508     val           1                1\n",
       "1007           29521     val           1                1\n",
       "1008           29520     val           0                0\n",
       "1009           29525     val           0                0\n",
       "\n",
       "[1010 rows x 4 columns]"
      ]
     },
     "execution_count": 14,
     "metadata": {},
     "output_type": "execute_result"
    }
   ],
   "source": [
    "import pandas as pd\n",
    "\n",
    "test_predictions_path = 'outputs/Resnet50/ABIDE2/test/test_meta_data.csv'\n",
    "train_predictions_path = 'outputs/Resnet50/ABIDE2/train/train_meta_data.csv'\n",
    "val_predictions_path = 'outputs/Resnet50/ABIDE2/validation/validation_meta_data.csv'\n",
    "\n",
    "truth_path = 'Original_Data/Metadata/ABIDEII_participants.tsv'\n",
    "\n",
    "test_predictions = pd.read_csv(test_predictions_path)\n",
    "train_predictions = pd.read_csv(train_predictions_path)\n",
    "val_predictions = pd.read_csv(val_predictions_path)\n",
    "\n",
    "truth = pd.read_csv(truth_path, sep=\"\\t\", dtype=str)\n",
    "\n",
    "# Add dataset columns\n",
    "test_predictions['dataset'] = 'test'\n",
    "train_predictions['dataset'] = 'train'\n",
    "val_predictions['dataset'] = 'val'\n",
    "\n",
    "# Combine\n",
    "predictions = pd.concat([test_predictions,train_predictions,val_predictions])\n",
    "\n",
    "# Rename columns to match\n",
    "predictions.rename(columns={\"SUB_ID\": \"participant_id\", \"label\": \"predicted_label\"}, inplace=True)\n",
    "truth.rename(columns={\"label\": \"true_label\"}, inplace=True)\n",
    "\n",
    "# Remove unnecessary columns\n",
    "predictions = predictions.drop(['filename', 'Unnamed: 0'], axis=1)\n",
    "\n",
    "# Change to int\n",
    "predictions['predicted_label'] = predictions['predicted_label'].astype('Int64')\n",
    "truth['true_label'] = truth['true_label'].astype('Int64')\n",
    "truth['participant_id'] = truth['participant_id'].astype('Int64')\n",
    "\n",
    "# Check lengths\n",
    "print(predictions.shape[0])\n",
    "print(truth.shape[0])\n",
    "\n",
    "# Combine\n",
    "combined = pd.merge(\n",
    "    left=predictions, \n",
    "    right=truth,\n",
    "    how='left',\n",
    "    left_on=['participant_id', 'dataset'],\n",
    "    right_on=['participant_id', 'dataset'],\n",
    ")\n",
    "\n",
    "#Reorder\n",
    "combined = combined[['participant_id', 'dataset', 'true_label', 'predicted_label']]\n",
    "\n",
    "# Print\n",
    "combined\n"
   ]
  },
  {
   "cell_type": "code",
   "execution_count": 15,
   "id": "550a7fdc-9a4a-4525-902c-f6ecc8000f8f",
   "metadata": {},
   "outputs": [
    {
     "name": "stdout",
     "output_type": "stream",
     "text": [
      "Accuracy: 1.0\n"
     ]
    }
   ],
   "source": [
    "from sklearn.metrics import accuracy_score\n",
    "\n",
    "accuracy = accuracy_score(combined['true_label'], combined['predicted_label'])\n",
    "print(f\"Accuracy: {accuracy}\")"
   ]
  },
  {
   "cell_type": "markdown",
   "id": "ff031cc1-2f4f-466f-ad0e-f6adad9c940f",
   "metadata": {},
   "source": [
    "# ACE"
   ]
  },
  {
   "cell_type": "code",
   "execution_count": 4,
   "id": "0f942a21-b87b-43b8-a6b0-9c7b585d9011",
   "metadata": {},
   "outputs": [
    {
     "name": "stdout",
     "output_type": "stream",
     "text": [
      "/sfs/gpfs/tardis/home/ejh2wy/Autism-3D-CNN-brain-sMRI/resnet2.py:174: FutureWarning: `nn.init.kaiming_normal` is now deprecated in favor of `nn.init.kaiming_normal_`.\n",
      "  m.weight = nn.init.kaiming_normal(m.weight, mode='fan_out')\n",
      "/sfs/gpfs/tardis/home/ejh2wy/CHMCorr_Autism_Research/../Autism-3D-CNN-brain-sMRI/predict_medicalnet.py:127: FutureWarning: You are using `torch.load` with `weights_only=False` (the current default value), which uses the default pickle module implicitly. It is possible to construct malicious pickle data which will execute arbitrary code during unpickling (See https://github.com/pytorch/pytorch/blob/main/SECURITY.md#untrusted-models for more details). In a future release, the default value for `weights_only` will be flipped to `True`. This limits the functions that could be executed during unpickling. Arbitrary objects will no longer be allowed to be loaded via this mode unless they are explicitly allowlisted by the user via `torch.serialization.add_safe_globals`. We recommend you start setting `weights_only=True` for any use case where you don't have full control of the loaded file. Please open an issue on GitHub for any issues related to this experimental feature.\n",
      "  pretrain = torch.load(pretrain_path)\n",
      "/home/ejh2wy/.local/lib/python3.11/site-packages/torchio/data/image.py:248: UserWarning: Using TorchIO images without a torchio.SubjectsLoader in PyTorch >= 2.3 might have unexpected consequences, e.g., the collated batches will be instances of torchio.Subject with 5D images. Replace your PyTorch DataLoader with a torchio.SubjectsLoader so that the collated batch becomes a dictionary, as expected. See https://github.com/TorchIO-project/torchio/issues/1179 for more context about this issue.\n",
      "  warnings.warn(message, stacklevel=1)\n",
      "^C\n"
     ]
    }
   ],
   "source": [
    "# Predictions\n",
    "!python ../Autism-3D-CNN-brain-sMRI/predict_medicalnet.py 'JustBrain_Data/ACE' 'Preprocessed_Data/ACE' '../Autism-3D-CNN-brain-sMRI/resnet_training/resnet_50.pth' './outputs/Resnet50/ACE'"
   ]
  },
  {
   "cell_type": "markdown",
   "id": "bcbc0c4a-54e6-47e5-9e2d-9d6276043cf2",
   "metadata": {},
   "source": [
    "# ABIDEI"
   ]
  },
  {
   "cell_type": "code",
   "execution_count": 5,
   "id": "62f588fc-d52e-4283-8067-d94e94d881af",
   "metadata": {},
   "outputs": [
    {
     "name": "stdout",
     "output_type": "stream",
     "text": [
      "/sfs/gpfs/tardis/home/ejh2wy/Autism-3D-CNN-brain-sMRI/resnet2.py:174: FutureWarning: `nn.init.kaiming_normal` is now deprecated in favor of `nn.init.kaiming_normal_`.\n",
      "  m.weight = nn.init.kaiming_normal(m.weight, mode='fan_out')\n",
      "/sfs/gpfs/tardis/home/ejh2wy/CHMCorr_Autism_Research/../Autism-3D-CNN-brain-sMRI/predict_medicalnet.py:127: FutureWarning: You are using `torch.load` with `weights_only=False` (the current default value), which uses the default pickle module implicitly. It is possible to construct malicious pickle data which will execute arbitrary code during unpickling (See https://github.com/pytorch/pytorch/blob/main/SECURITY.md#untrusted-models for more details). In a future release, the default value for `weights_only` will be flipped to `True`. This limits the functions that could be executed during unpickling. Arbitrary objects will no longer be allowed to be loaded via this mode unless they are explicitly allowlisted by the user via `torch.serialization.add_safe_globals`. We recommend you start setting `weights_only=True` for any use case where you don't have full control of the loaded file. Please open an issue on GitHub for any issues related to this experimental feature.\n",
      "  pretrain = torch.load(pretrain_path)\n",
      "/home/ejh2wy/.local/lib/python3.11/site-packages/torchio/data/image.py:248: UserWarning: Using TorchIO images without a torchio.SubjectsLoader in PyTorch >= 2.3 might have unexpected consequences, e.g., the collated batches will be instances of torchio.Subject with 5D images. Replace your PyTorch DataLoader with a torchio.SubjectsLoader so that the collated batch becomes a dictionary, as expected. See https://github.com/TorchIO-project/torchio/issues/1179 for more context about this issue.\n",
      "  warnings.warn(message, stacklevel=1)\n",
      "^C\n"
     ]
    }
   ],
   "source": [
    "# Predictions\n",
    "!python ../Autism-3D-CNN-brain-sMRI/predict_medicalnet.py 'JustBrain_Data/ABIDE1' 'Preprocessed_Data/ABIDE1' '../Autism-3D-CNN-brain-sMRI/resnet_training/resnet_50.pth' './outputs/Resnet50/ABIDE1'"
   ]
  },
  {
   "cell_type": "code",
   "execution_count": null,
   "id": "359c51e5-86f1-4e95-b0df-16a1d9e62798",
   "metadata": {},
   "outputs": [],
   "source": [
    "# Get Embeddings for xKMEANS"
   ]
  }
 ],
 "metadata": {
  "kernelspec": {
   "display_name": "Python (pretrainedresnet2)",
   "language": "python",
   "name": "pretrainedresnet2"
  },
  "language_info": {
   "codemirror_mode": {
    "name": "ipython",
    "version": 3
   },
   "file_extension": ".py",
   "mimetype": "text/x-python",
   "name": "python",
   "nbconvert_exporter": "python",
   "pygments_lexer": "ipython3",
   "version": "3.11.4"
  }
 },
 "nbformat": 4,
 "nbformat_minor": 5
}
