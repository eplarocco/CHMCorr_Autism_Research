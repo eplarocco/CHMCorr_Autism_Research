{
 "cells": [
  {
   "cell_type": "markdown",
   "id": "5240e458-2ca9-4cfb-b035-53749246a3b0",
   "metadata": {},
   "source": [
    "Towards 3D Deep Learning for neuropsychiatry: predicting Autism diagnosis using an interpretable Deep Learning pipeline applied to minimally processed structural MRI data, Melanie Garcia, Clare Kelly. medRxiv 2022.10.18.22281196; doi: https://doi.org/10.1101/2022.10.18.22281196\n",
    "\n",
    "Github: https://github.com/garciaml/Autism-3D-CNN-brain-sMRI?tab=readme-ov-file"
   ]
  },
  {
   "cell_type": "code",
   "execution_count": null,
   "id": "a580654c-8995-41ac-8a45-b1d3be5d3827",
   "metadata": {},
   "outputs": [],
   "source": [
    "# Activate Virtual Environment and Install Requirements\n",
    "#!python3 -m venv ../pretrainedresnet2\n",
    "#!source ../pretrainedresnet2/bin/activate\n",
    "#!python3 -m ipykernel install --user --name=pretrainedresnet2 --display-name \"Python (pretrainedresnet2)\"\n",
    "#Switch to notebook/virtual environment kernel\n",
    "#!pip install -r requirements.txt # install requirements text in new environment\n",
    "#!pip install \"torchio>=0.19.0\"\n",
    "#!pip install monai\n",
    "#!pip install tensorboard\n",
    "#!pip install torchsummary"
   ]
  },
  {
   "cell_type": "code",
   "execution_count": 1,
   "id": "b00e43c5-baa8-41b5-b817-35dcbfb76bc5",
   "metadata": {},
   "outputs": [],
   "source": [
    "import os\n",
    "import shutil\n",
    "import pandas as pd"
   ]
  },
  {
   "cell_type": "markdown",
   "id": "adca8835-3e91-422a-9ea8-2ca9eddff78a",
   "metadata": {},
   "source": [
    "# EDA"
   ]
  },
  {
   "cell_type": "code",
   "execution_count": 2,
   "id": "bf232768-d708-4975-940a-21a4a1c34239",
   "metadata": {},
   "outputs": [],
   "source": [
    "def copy_with_structure(source_folder, destination_folder):\n",
    "    \"\"\"Copies the contents of source_folder to destination_folder, maintaining the directory structure.\"\"\"\n",
    "\n",
    "    for item in os.listdir(source_folder):\n",
    "        source_path = os.path.join(source_folder, item)\n",
    "        destination_path = os.path.join(destination_folder, item)\n",
    "\n",
    "        if os.path.isfile(source_path):\n",
    "            shutil.copy2(source_path, destination_path)  # copy file with metadata\n",
    "        elif os.path.isdir(source_path):\n",
    "             shutil.copytree(source_path, destination_path, dirs_exist_ok=True) # copy directory and its contents\n",
    "        else:\n",
    "            print(f\"Skipping {source_path}, not a file or directory.\")"
   ]
  },
  {
   "cell_type": "code",
   "execution_count": 3,
   "id": "015997f8-e4a4-4328-aa85-d093a64e9e29",
   "metadata": {},
   "outputs": [],
   "source": [
    "def count_folders(path):\n",
    "    folder_count = 0\n",
    "    for item in os.listdir(path):\n",
    "        if os.path.isdir(os.path.join(path, item)):\n",
    "            folder_count += 1\n",
    "    return folder_count"
   ]
  },
  {
   "cell_type": "code",
   "execution_count": 4,
   "id": "b5e980f0-c81c-48bf-aff6-ec53256386f2",
   "metadata": {},
   "outputs": [],
   "source": [
    "def count_files(directory_path):\n",
    "    \"\"\"Counts the number of files in a directory.\n",
    "\n",
    "    Args:\n",
    "        directory_path: The path to the directory.\n",
    "\n",
    "    Returns:\n",
    "        The number of files in the directory, or -1 if the directory does not exist.\n",
    "    \"\"\"\n",
    "    if not os.path.exists(directory_path):\n",
    "        return -1\n",
    "    \n",
    "    file_count = 0\n",
    "    for item in os.listdir(directory_path):\n",
    "        item_path = os.path.join(directory_path, item)\n",
    "        if os.path.isfile(item_path):\n",
    "            file_count += 1\n",
    "    return file_count"
   ]
  },
  {
   "cell_type": "code",
   "execution_count": 14,
   "id": "4c87d2cb-dd55-4fbc-a97a-8e6b39214239",
   "metadata": {},
   "outputs": [],
   "source": [
    "def count_autism_labels(filepath):\n",
    "    # Load the TSV file\n",
    "    try:\n",
    "        df = pd.read_csv(filepath, sep='\\t')\n",
    "    except Exception as e:\n",
    "        print(f\"Error reading file: {e}\")\n",
    "        return\n",
    "\n",
    "    # Check required columns\n",
    "    required_columns = {'label', 'dataset'}\n",
    "    if not required_columns.issubset(df.columns):\n",
    "        print(f\"Missing required columns. Found columns: {df.columns.tolist()}\")\n",
    "        return\n",
    "\n",
    "    # Debug: print unique values\n",
    "    print(\"Unique labels:\", df['label'].unique())\n",
    "    print(\"Unique dataset entries:\", df['dataset'].unique())\n",
    "\n",
    "    # Convert numeric labels to string labels\n",
    "    label_map = {1: 'Autism', 0: 'No Autism'}\n",
    "    df['label'] = df['label'].map(label_map)\n",
    "\n",
    "    if df['label'].isnull().any():\n",
    "        print(\"Warning: Some labels could not be mapped (not 0 or 1).\")\n",
    "\n",
    "    # Count labels per dataset split\n",
    "    for split in ['train', 'val', 'test']:\n",
    "        subset = df[df['dataset'] == split]\n",
    "        if subset.empty:\n",
    "            print(f\"No data for split: {split}\")\n",
    "            continue\n",
    "\n",
    "        autism_count = (subset['label'] == 'Autism').sum()\n",
    "        no_autism_count = (subset['label'] == 'No Autism').sum()\n",
    "\n",
    "        print(f\"{split.upper()} SET:\")\n",
    "        print(f\"  Autism: {autism_count}\")\n",
    "        print(f\"  No Autism: {no_autism_count}\\n\")"
   ]
  },
  {
   "cell_type": "markdown",
   "id": "e78447c2-f236-4f13-8b7c-3f9861ef7ce0",
   "metadata": {
    "scrolled": true
   },
   "source": [
    "# Model Training - check if can reporduce results from paper (train to 42 epochs with similar split)\n",
    "\n",
    "#Copy ABIDE1 and ABIDE2 images to ABIDE_COMBINED folder in JustBrain_Data folder\n",
    "source_folder1 = \"JustBrain_Data/ABIDE1\"\n",
    "source_folder2 = \"JustBrain_Data/ABIDE2\"\n",
    "destination_folder = \"JustBrain_Data/ABIDE_COMBINED\"\n",
    "\n",
    "copy_with_structure(source_folder1, destination_folder)\n",
    "copy_with_structure(source_folder2, destination_folder)\n",
    "\n",
    "\n",
    "#Combine ABIDEI and ABIDE2 tsv files\n",
    "participants1_tsv = pd.read_csv('JustBrain_Data/ABIDE1/participants.tsv', sep=\"\\t\", dtype=str)\n",
    "participants1_tsv['participant_id'] = participants1_tsv['participant_id'].astype(str).str.zfill(7)\n",
    "participants2_tsv = pd.read_csv('JustBrain_Data/ABIDE2/participants.tsv', sep=\"\\t\", dtype=str)\n",
    "participants_ABIDE = pd.concat([participants1_tsv,participants2_tsv])\n",
    "participants_ABIDE.to_csv('JustBrain_Data/ABIDE_COMBINED/participants.tsv', sep='\\t', index=False, header=True)\n",
    "\n",
    "#Check\n",
    "print(count_folders(source_folder1) + count_folders(source_folder2))\n",
    "print(count_folders(destination_folder))\n",
    "print(participants_ABIDE.shape[0]) # - looks good!\n",
    "\n",
    "\n",
    "#Copy ABIDE1 and ABIDE2 images to ABIDE_COMBINED folder in Preprocessed_Data folder\n",
    "source_folder1 = \"Preprocessed_Data/ABIDE1\"\n",
    "source_folder2 = \"Preprocessed_Data/ABIDE2\"\n",
    "destination_folder = \"Preprocessed_Data/ABIDE_COMBINED\"\n",
    "\n",
    "copy_with_structure(source_folder1, destination_folder)\n",
    "copy_with_structure(source_folder2, destination_folder)\n",
    "\n",
    "#Check\n",
    "test_folder = count_files(\"Preprocessed_Data/ABIDE_COMBINED/test\")\n",
    "train_folder = count_files(\"Preprocessed_Data/ABIDE_COMBINED/train\")\n",
    "val_folder = count_files(\"Preprocessed_Data/ABIDE_COMBINED/val\")\n",
    "print(test_folder + train_folder + val_folder)"
   ]
  },
  {
   "cell_type": "code",
   "execution_count": 16,
   "id": "5f0677f8-8b47-4927-8618-3bab5d813a2d",
   "metadata": {},
   "outputs": [
    {
     "name": "stdout",
     "output_type": "stream",
     "text": [
      "Unique labels: [1 0]\n",
      "Unique dataset entries: ['train' 'val' 'test']\n",
      "TRAIN SET:\n",
      "  Autism: 799\n",
      "  No Autism: 899\n",
      "\n",
      "VAL SET:\n",
      "  Autism: 142\n",
      "  No Autism: 157\n",
      "\n",
      "TEST SET:\n",
      "  Autism: 59\n",
      "  No Autism: 56\n",
      "\n"
     ]
    }
   ],
   "source": [
    "#count_autism_labels('JustBrain_Data/ABIDE1/participants.tsv')\n",
    "#count_autism_labels('JustBrain_Data/ABIDE2/participants.tsv')\n",
    "count_autism_labels('JustBrain_Data/ABIDE_COMBINED/participants.tsv')"
   ]
  },
  {
   "cell_type": "markdown",
   "id": "ffe6f52b-613f-4634-a61e-95b3a7c277d8",
   "metadata": {},
   "source": [
    "# Train Model"
   ]
  },
  {
   "cell_type": "code",
   "execution_count": 2,
   "id": "da2d921c-63b9-4ebb-8d8b-9168797104b0",
   "metadata": {},
   "outputs": [],
   "source": [
    "# Start training from scratch\n",
    "# batch size = 4 (6 too large)\n",
    "# learning rate = 0.0001\n",
    "# seed = 42"
   ]
  },
  {
   "cell_type": "code",
   "execution_count": null,
   "id": "597d68a7-58a1-4ec3-923b-39beeadcee5c",
   "metadata": {
    "scrolled": true
   },
   "outputs": [
    {
     "name": "stdout",
     "output_type": "stream",
     "text": [
      "Loading pretrained model weights from Resnet50 (backbone)\n",
      "----------\n",
      "epoch 1\n",
      "1/424, train_loss: 0.5798\n",
      "2/424, train_loss: 0.5303\n",
      "3/424, train_loss: 1.1646\n",
      "4/424, train_loss: 1.7541\n",
      "5/424, train_loss: 0.9332\n",
      "6/424, train_loss: 0.6520\n",
      "7/424, train_loss: 2.0708\n",
      "8/424, train_loss: 1.2679\n",
      "9/424, train_loss: 0.7920\n",
      "10/424, train_loss: 0.6910\n"
     ]
    }
   ],
   "source": [
    "!python ../Autism-3D-CNN-brain-sMRI/train_medicalnet.py 'JustBrain_Data/ABIDE_COMBINED' 'Preprocessed_Data/ABIDE_COMBINED' './outputs/Resnet50/ABIDE_Combined' '../Autism-3D-CNN-brain-sMRI/resnet_training/resnet_10.pth'"
   ]
  },
  {
   "cell_type": "code",
   "execution_count": null,
   "id": "2993877a-8db0-45f1-a64b-f949df2eb724",
   "metadata": {
    "scrolled": true
   },
   "outputs": [],
   "source": [
    "# Resume training from saved model\n",
    "#!python ../Autism-3D-CNN-brain-sMRI/train_medicalnet.py 'JustBrain_Data/ABIDE_COMBINED' 'Preprocessed_Data/ABIDE_COMBINED' './outputs/Resnet50/ABIDE_Combined' 'outputs/Resnet50/ABIDE_Combined/checkpoint_1.pth' --resume"
   ]
  },
  {
   "cell_type": "code",
   "execution_count": 1,
   "id": "8654e748-5af5-4e97-8e72-94e4925eed18",
   "metadata": {},
   "outputs": [],
   "source": [
    "with open(\"outputs/Resnet50/ABIDE_Combined/training.log\", \"r\") as infile, open(\"outputs/Resnet50/ABIDE_Combined/filtered.log\", \"w\") as outfile:\n",
    "    for line in infile:\n",
    "        if line.startswith(\"epoch \") and \"average loss\" in line:\n",
    "            outfile.write(line)\n",
    "        #elif line.startswith(\"Epoch time duration:\"):\n",
    "            #outfile.write(line)\n",
    "        elif line.startswith(\"current epoch:\"):\n",
    "            outfile.write(line)"
   ]
  },
  {
   "cell_type": "markdown",
   "id": "c9d8499e-064d-401b-bb7c-215be375d59c",
   "metadata": {},
   "source": [
    "## Test"
   ]
  },
  {
   "cell_type": "code",
   "execution_count": 4,
   "id": "75547e36-4142-43eb-89aa-296adb7b1861",
   "metadata": {},
   "outputs": [],
   "source": [
    "participants_tsv = pd.read_csv('JustBrain_Data/ABIDE_COMBINED/participants.tsv', sep=\"\\t\", dtype=str)\n",
    "participants_tsv.rename(columns={\"participant_id\" : \"SUB_ID\"}, inplace=True)\n",
    "participants_tsv = participants_tsv[participants_tsv.dataset == 'test']\n",
    "participants_tsv.to_csv('outputs/Resnet50/ABIDE_Combined/test/subjects.csv', index = False)"
   ]
  },
  {
   "cell_type": "code",
   "execution_count": 3,
   "id": "d3dae81f-48e7-4cea-8b32-32cdec2fca5e",
   "metadata": {},
   "outputs": [
    {
     "name": "stdout",
     "output_type": "stream",
     "text": [
      "evaluation metric: 0.5130434782608696\n"
     ]
    }
   ],
   "source": [
    "# Predictions - 18 epochs (best accuracy) - overfit - predicts 0 for everything\n",
    "!python ../Autism-3D-CNN-brain-sMRI/predict_medicalnet_subids.py 'Preprocessed_Data/ABIDE_COMBINED/test' 'outputs/Resnet50/ABIDE_Combined/test/subjects.csv' './outputs/Resnet50/ABIDE_Combined/checkpoint_18.pth' './outputs/Resnet50/ABIDE_Combined/test'"
   ]
  },
  {
   "cell_type": "markdown",
   "id": "7a820afc-d2d9-4766-9d87-742fee1f72d4",
   "metadata": {},
   "source": [
    "## Val"
   ]
  },
  {
   "cell_type": "code",
   "execution_count": 6,
   "id": "dc3ec65f-8e20-4e35-9ac4-9620001b4941",
   "metadata": {},
   "outputs": [],
   "source": [
    "participants_tsv = pd.read_csv('JustBrain_Data/ABIDE_COMBINED/participants.tsv', sep=\"\\t\", dtype=str)\n",
    "participants_tsv.rename(columns={\"participant_id\" : \"SUB_ID\"}, inplace=True)\n",
    "participants_tsv = participants_tsv[participants_tsv.dataset == 'val']\n",
    "participants_tsv.to_csv('outputs/Resnet50/ABIDE_Combined/validation/subjects.csv', index = False)"
   ]
  },
  {
   "cell_type": "code",
   "execution_count": null,
   "id": "af0cb6d4-8eb4-4906-a70c-ea24d2a72576",
   "metadata": {},
   "outputs": [],
   "source": [
    "# Predictions - 36 epochs (predictions all 0) - overfit\n",
    "!python ../Autism-3D-CNN-brain-sMRI/predict_medicalnet_subids.py 'Preprocessed_Data/ABIDE_COMBINED/val' 'outputs/Resnet50/ABIDE_Combined/validation/subjects.csv' './outputs/Resnet50/ABIDE_Combined/checkpoint_36.pth' './outputs/Resnet50/ABIDE_Combined/validation'"
   ]
  },
  {
   "cell_type": "markdown",
   "id": "8e75b94b-163d-49a2-ac9e-1760de5b7051",
   "metadata": {},
   "source": [
    "## Train"
   ]
  },
  {
   "cell_type": "code",
   "execution_count": null,
   "id": "e2267488-6795-4724-92d7-c5ea9d648c22",
   "metadata": {},
   "outputs": [],
   "source": [
    "participants_tsv = pd.read_csv('JustBrain_Data/ABIDE_COMBINED/participants.tsv', sep=\"\\t\", dtype=str)\n",
    "participants_tsv.rename(columns={\"participant_id\" : \"SUB_ID\"}, inplace=True)\n",
    "participants_tsv = participants_tsv[participants_tsv.dataset == 'train']\n",
    "participants_tsv.to_csv('outputs/Resnet50/ABIDE_Combined/train/subjects.csv', index = False)"
   ]
  },
  {
   "cell_type": "code",
   "execution_count": 10,
   "id": "7d5ce33b-b322-4708-ba77-397ecce85708",
   "metadata": {},
   "outputs": [
    {
     "name": "stdout",
     "output_type": "stream",
     "text": [
      "/sfs/gpfs/tardis/home/ejh2wy/Autism-3D-CNN-brain-sMRI/resnet2.py:174: FutureWarning: `nn.init.kaiming_normal` is now deprecated in favor of `nn.init.kaiming_normal_`.\n",
      "  m.weight = nn.init.kaiming_normal(m.weight, mode='fan_out')\n",
      "/sfs/gpfs/tardis/home/ejh2wy/CHMCorr_Autism_Research/../Autism-3D-CNN-brain-sMRI/predict_medicalnet_subids.py:104: FutureWarning: You are using `torch.load` with `weights_only=False` (the current default value), which uses the default pickle module implicitly. It is possible to construct malicious pickle data which will execute arbitrary code during unpickling (See https://github.com/pytorch/pytorch/blob/main/SECURITY.md#untrusted-models for more details). In a future release, the default value for `weights_only` will be flipped to `True`. This limits the functions that could be executed during unpickling. Arbitrary objects will no longer be allowed to be loaded via this mode unless they are explicitly allowlisted by the user via `torch.serialization.add_safe_globals`. We recommend you start setting `weights_only=True` for any use case where you don't have full control of the loaded file. Please open an issue on GitHub for any issues related to this experimental feature.\n",
      "  pretrain = torch.load(pretrain_path)\n",
      "/home/ejh2wy/.local/lib/python3.11/site-packages/torchio/data/image.py:248: UserWarning: Using TorchIO images without a torchio.SubjectsLoader in PyTorch >= 2.3 might have unexpected consequences, e.g., the collated batches will be instances of torchio.Subject with 5D images. Replace your PyTorch DataLoader with a torchio.SubjectsLoader so that the collated batch becomes a dictionary, as expected. See https://github.com/TorchIO-project/torchio/issues/1179 for more context about this issue.\n",
      "  warnings.warn(message, stacklevel=1)\n",
      "evaluation metric: 0.5294464075382803\n"
     ]
    }
   ],
   "source": [
    "# Predictions - 36 epochs (predictions all 0) - overfit\n",
    "!python ../Autism-3D-CNN-brain-sMRI/predict_medicalnet_subids.py 'Preprocessed_Data/ABIDE_COMBINED/train' 'outputs/Resnet50/ABIDE_Combined/train/subjects.csv' './outputs/Resnet50/ABIDE_Combined/checkpoint_36.pth' './outputs/Resnet50/ABIDE_Combined/train'"
   ]
  }
 ],
 "metadata": {
  "kernelspec": {
   "display_name": "Python (pretrainedresnet2)",
   "language": "python",
   "name": "pretrainedresnet2"
  },
  "language_info": {
   "codemirror_mode": {
    "name": "ipython",
    "version": 3
   },
   "file_extension": ".py",
   "mimetype": "text/x-python",
   "name": "python",
   "nbconvert_exporter": "python",
   "pygments_lexer": "ipython3",
   "version": "3.11.4"
  }
 },
 "nbformat": 4,
 "nbformat_minor": 5
}
